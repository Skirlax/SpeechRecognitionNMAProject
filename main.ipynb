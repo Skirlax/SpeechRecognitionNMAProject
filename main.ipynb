{
 "cells": [
  {
   "cell_type": "code",
   "execution_count": null,
   "outputs": [],
   "source": [
    "!pip install transformers\n",
    "!pip install datasets\n",
    "!pip install torchaudio"
   ],
   "metadata": {
    "collapsed": false
   }
  },
  {
   "cell_type": "code",
   "execution_count": null,
   "outputs": [],
   "source": [
    "from Preprocessing.dataset import DatasetProcessor\n",
    "from Model.net import SpeechRecognitionNet\n",
    "import torch"
   ],
   "metadata": {
    "collapsed": false
   }
  },
  {
   "cell_type": "code",
   "execution_count": null,
   "outputs": [],
   "source": [
    "dp = DatasetProcessor(num_proc=100)\n",
    "train = dp.download(dataset_name=\"mozilla-foundation/common_voice_13_0\",language_code=\"be\",split=\"train\")\n",
    "test = dp.download(dataset_name=\"mozilla-foundation/common_voice_13_0\",language_code=\"be\",split=\"test\")\n",
    "validation = dp.download(dataset_name=\"mozilla-foundation/common_voice_13_0\",language_code=\"be\",split=\"validation\")"
   ],
   "metadata": {
    "collapsed": false
   }
  },
  {
   "cell_type": "code",
   "execution_count": null,
   "outputs": [],
   "source": [
    "train = train.shuffle().select(range(2000))\n",
    "test = test.shuffle().select(range(2000))\n",
    "validation = validation.shuffle().select(range(2000))"
   ],
   "metadata": {
    "collapsed": false
   }
  },
  {
   "cell_type": "code",
   "execution_count": null,
   "outputs": [],
   "source": [
    "train,test,validation = dp.pre_process([train,test,validation])"
   ],
   "metadata": {
    "collapsed": false
   }
  },
  {
   "cell_type": "code",
   "execution_count": null,
   "outputs": [],
   "source": [
    "device = \"cuda\" if torch.cuda.is_available() else \"cpu\""
   ],
   "metadata": {
    "collapsed": false
   }
  },
  {
   "cell_type": "code",
   "execution_count": null,
   "outputs": [],
   "source": [
    "network = SpeechRecognitionNet(input_channels=3,bart_hidden=None).to(\"cuda\")\n",
    "network.train_(500,train[\"audio\"],train[\"sentence\"])"
   ],
   "metadata": {
    "collapsed": false
   }
  }
 ],
 "metadata": {
  "kernelspec": {
   "display_name": "Python 3",
   "language": "python",
   "name": "python3"
  },
  "language_info": {
   "codemirror_mode": {
    "name": "ipython",
    "version": 2
   },
   "file_extension": ".py",
   "mimetype": "text/x-python",
   "name": "python",
   "nbconvert_exporter": "python",
   "pygments_lexer": "ipython2",
   "version": "2.7.6"
  }
 },
 "nbformat": 4,
 "nbformat_minor": 0
}
